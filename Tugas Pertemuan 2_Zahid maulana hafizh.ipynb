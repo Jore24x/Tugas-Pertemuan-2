{
  "nbformat": 4,
  "nbformat_minor": 0,
  "metadata": {
    "colab": {
      "provenance": [],
      "collapsed_sections": []
    },
    "kernelspec": {
      "name": "python3",
      "display_name": "Python 3"
    },
    "language_info": {
      "name": "python"
    }
  },
  "cells": [
    {
      "cell_type": "code",
      "execution_count": 28,
      "metadata": {
        "colab": {
          "base_uri": "https://localhost:8080/"
        },
        "id": "PvSVgb-FrujE",
        "outputId": "f12614cf-ce86-4f9f-f745-c82a59d842cb"
      },
      "outputs": [
        {
          "output_type": "stream",
          "name": "stdout",
          "text": [
            "Hello, World!\n",
            "Zahid Maulana Hafizh\n",
            "2021071034\n"
          ]
        }
      ],
      "source": [
        "import numpy as np\n",
        "\n",
        "print (\"Hello, World!\")\n",
        "print (\"Zahid Maulana Hafizh\")\n",
        "print (\"2021071034\")"
      ]
    },
    {
      "cell_type": "code",
      "source": [
        "if 5 > 2:\n",
        "  print (\"Five is greater than two!\")"
      ],
      "metadata": {
        "colab": {
          "base_uri": "https://localhost:8080/"
        },
        "id": "ssddkWs9s66P",
        "outputId": "fcceb9b9-c0f9-47f4-f477-91bf63275b31"
      },
      "execution_count": 5,
      "outputs": [
        {
          "output_type": "stream",
          "name": "stdout",
          "text": [
            "Five is greater than two!\n"
          ]
        }
      ]
    },
    {
      "cell_type": "code",
      "source": [
        "x = 5\n",
        "y = \"john\"\n",
        "print (x)\n",
        "print (y)"
      ],
      "metadata": {
        "colab": {
          "base_uri": "https://localhost:8080/"
        },
        "id": "n9sKK7sStb2G",
        "outputId": "465e4ee0-0b56-48a3-f53d-54e3c3b1ad9d"
      },
      "execution_count": 6,
      "outputs": [
        {
          "output_type": "stream",
          "name": "stdout",
          "text": [
            "5\n",
            "john\n"
          ]
        }
      ]
    },
    {
      "cell_type": "code",
      "source": [
        "x = 4\n",
        "x = \"sally\"\n",
        "print (x)"
      ],
      "metadata": {
        "colab": {
          "base_uri": "https://localhost:8080/"
        },
        "id": "bIscnSLutl09",
        "outputId": "de9a9263-a1e0-43b5-99d6-fb62c3880ac8"
      },
      "execution_count": 7,
      "outputs": [
        {
          "output_type": "stream",
          "name": "stdout",
          "text": [
            "sally\n"
          ]
        }
      ]
    },
    {
      "cell_type": "code",
      "source": [
        "def getFirst(myList):\n",
        "  return myList[0]\n",
        "getFirst([1,2,3])"
      ],
      "metadata": {
        "colab": {
          "base_uri": "https://localhost:8080/"
        },
        "id": "03q7lUBttxTx",
        "outputId": "5c5cae72-ea55-4d54-f608-a7676b41c3a8"
      },
      "execution_count": 12,
      "outputs": [
        {
          "output_type": "execute_result",
          "data": {
            "text/plain": [
              "1"
            ]
          },
          "metadata": {},
          "execution_count": 12
        }
      ]
    },
    {
      "cell_type": "code",
      "source": [
        "def getSecond (myList):\n",
        "  return myList[1]\n",
        "getSecond([1,2,3])"
      ],
      "metadata": {
        "colab": {
          "base_uri": "https://localhost:8080/"
        },
        "id": "XduK1RlvwtRt",
        "outputId": "ec4a0678-cfa2-45a6-fe37-c25fc592827e"
      },
      "execution_count": 13,
      "outputs": [
        {
          "output_type": "execute_result",
          "data": {
            "text/plain": [
              "2"
            ]
          },
          "metadata": {},
          "execution_count": 13
        }
      ]
    },
    {
      "cell_type": "code",
      "source": [
        "def getLast (myList) :\n",
        "  return myList[-1]\n",
        "getLast ([1,2,3])"
      ],
      "metadata": {
        "colab": {
          "base_uri": "https://localhost:8080/"
        },
        "id": "XFH65z8ZxrNB",
        "outputId": "396eaae2-aa47-406d-89b3-c2468fefb820"
      },
      "execution_count": 21,
      "outputs": [
        {
          "output_type": "execute_result",
          "data": {
            "text/plain": [
              "3"
            ]
          },
          "metadata": {},
          "execution_count": 21
        }
      ]
    },
    {
      "cell_type": "code",
      "source": [
        "def getSum(myList) :\n",
        "  sum = 0\n",
        "  for item in myList:\n",
        "    sum = sum + item\n",
        "  return sum\n",
        "getSum([1,2,3,4])"
      ],
      "metadata": {
        "colab": {
          "base_uri": "https://localhost:8080/"
        },
        "id": "2Wzs1tnKyYoV",
        "outputId": "d76ae9fc-c6b8-4cad-f5e2-35c19c381faf"
      },
      "execution_count": 31,
      "outputs": [
        {
          "output_type": "execute_result",
          "data": {
            "text/plain": [
              "10"
            ]
          },
          "metadata": {},
          "execution_count": 31
        }
      ]
    },
    {
      "cell_type": "code",
      "source": [
        "def getKali(myList) :\n",
        "  kali = 1\n",
        "  for item in myList:\n",
        "    kali = kali * item\n",
        "  return kali\n",
        "getKali([1,2,3,4])"
      ],
      "metadata": {
        "colab": {
          "base_uri": "https://localhost:8080/"
        },
        "id": "LAuo5ESj20Pd",
        "outputId": "0caa022c-3062-49c3-8b00-2f0850be757b"
      },
      "execution_count": 39,
      "outputs": [
        {
          "output_type": "execute_result",
          "data": {
            "text/plain": [
              "24"
            ]
          },
          "metadata": {},
          "execution_count": 39
        }
      ]
    },
    {
      "cell_type": "code",
      "source": [
        "def getBagi(myList) :\n",
        "  bagi = 2\n",
        "  for item in myList:\n",
        "    bagi = bagi / item\n",
        "  return bagi\n",
        "getBagi ([2,4,6,8])"
      ],
      "metadata": {
        "colab": {
          "base_uri": "https://localhost:8080/"
        },
        "id": "T2jLrPRn4kWb",
        "outputId": "edb5b540-0a39-4967-c7c3-1e83f170bc0b"
      },
      "execution_count": 59,
      "outputs": [
        {
          "output_type": "execute_result",
          "data": {
            "text/plain": [
              "0.005208333333333333"
            ]
          },
          "metadata": {},
          "execution_count": 59
        }
      ]
    },
    {
      "cell_type": "code",
      "source": [
        "def getSum(myList) :\n",
        "  sum = 0\n",
        "  for row in myList:\n",
        "    for item in row:\n",
        "      sum += item\n",
        "  return sum\n",
        "getSum([[1,2,5],[3,4,7]])"
      ],
      "metadata": {
        "colab": {
          "base_uri": "https://localhost:8080/"
        },
        "id": "H7uHjcrk6UJY",
        "outputId": "6443846e-a10d-46ff-e4a0-32fa5c39ba52"
      },
      "execution_count": 69,
      "outputs": [
        {
          "output_type": "execute_result",
          "data": {
            "text/plain": [
              "22"
            ]
          },
          "metadata": {},
          "execution_count": 69
        }
      ]
    },
    {
      "cell_type": "code",
      "source": [
        "def getBagi(myList) :\n",
        "  bagi = 0.2\n",
        "  for row in myList:\n",
        "    for item in row:\n",
        "      bagi /= item\n",
        "  return bagi\n",
        "getBagi([[2,4,6],[12,16,18]])"
      ],
      "metadata": {
        "colab": {
          "base_uri": "https://localhost:8080/"
        },
        "id": "75lXZYdY9qs9",
        "outputId": "3e81113e-643f-4991-cdb1-dd06eaf4852f"
      },
      "execution_count": 73,
      "outputs": [
        {
          "output_type": "execute_result",
          "data": {
            "text/plain": [
              "1.2056327160493827e-06"
            ]
          },
          "metadata": {},
          "execution_count": 73
        }
      ]
    },
    {
      "cell_type": "code",
      "source": [
        "def getKurang(myList) :\n",
        "  kurang = 0\n",
        "  for row in myList:\n",
        "    for item in row:\n",
        "      kurang -= item\n",
        "  return kurang\n",
        "getKurang([[1,2,3],[3,2,1]])"
      ],
      "metadata": {
        "colab": {
          "base_uri": "https://localhost:8080/"
        },
        "id": "DVvUVVOT-TOf",
        "outputId": "e9db47ac-ac46-4d60-b025-4aa652ec627e"
      },
      "execution_count": 75,
      "outputs": [
        {
          "output_type": "execute_result",
          "data": {
            "text/plain": [
              "-12"
            ]
          },
          "metadata": {},
          "execution_count": 75
        }
      ]
    },
    {
      "cell_type": "code",
      "source": [
        "def searchBinary(myList,item):\n",
        "  first = 0\n",
        "  last = len(myList)-1\n",
        "  foundFlag = False\n",
        "  while( first<=last and not foundFlag):\n",
        "    mid = (first + last)//2\n",
        "    if myList[mid] == item :\n",
        "       foundFlag = True\n",
        "    else:\n",
        "      if item < myList[mid] :\n",
        "        last = mid - 1\n",
        "      else:\n",
        "          first = mid + 1\n",
        "  return foundFlag\n",
        "searchBinary([8,9,10,100,1000,2000,3000], 10)\n"
      ],
      "metadata": {
        "colab": {
          "base_uri": "https://localhost:8080/"
        },
        "id": "gTWKGRYX_Acx",
        "outputId": "763f7c3f-06bd-4a65-d841-702edc4b0db9"
      },
      "execution_count": 82,
      "outputs": [
        {
          "output_type": "execute_result",
          "data": {
            "text/plain": [
              "True"
            ]
          },
          "metadata": {},
          "execution_count": 82
        }
      ]
    },
    {
      "cell_type": "code",
      "source": [
        "def searchBinary(myList,item):\n",
        "  first = 0\n",
        "  last = len(myList)-1\n",
        "  foundFlag = False\n",
        "  while( first<=last and not foundFlag):\n",
        "    mid = (first + last)//2\n",
        "    if myList[mid] == item :\n",
        "       foundFlag = True\n",
        "    else:\n",
        "      if item < myList[mid] :\n",
        "        last = mid - 1\n",
        "      else:\n",
        "          first = mid + 1\n",
        "  return foundFlag\n",
        "\n",
        "searchBinary([8,9,10,100,1000,2000,3000], 5)"
      ],
      "metadata": {
        "colab": {
          "base_uri": "https://localhost:8080/"
        },
        "id": "CMLVZDIMAjce",
        "outputId": "149a2d3e-a754-421b-b015-845cd70a9c62"
      },
      "execution_count": 81,
      "outputs": [
        {
          "output_type": "execute_result",
          "data": {
            "text/plain": [
              "False"
            ]
          },
          "metadata": {},
          "execution_count": 81
        }
      ]
    }
  ]
}